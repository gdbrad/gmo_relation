{
 "cells": [
  {
   "cell_type": "code",
   "execution_count": 1,
   "metadata": {},
   "outputs": [],
   "source": [
    "import h5py as h5\n",
    "#from h5glance import H5Glance\n",
    "import numpy as np\n",
    "import gvar as gv\n",
    "import pandas as pd\n",
    "import os \n",
    "import sys\n",
    "import ipywidgets as widgets\n",
    "import matplotlib.pyplot as plt\n",
    "%matplotlib notebook\n",
    "#import h5ls\n",
    "import lsqfit\n",
    "import matplotlib\n",
    "from matplotlib.backends.backend_pdf import PdfPages\n",
    "import yaml\n",
    "from pathlib import Path\n",
    "import importlib"
   ]
  },
  {
   "cell_type": "markdown",
   "metadata": {},
   "source": [
    "- We want to explore\n",
    "     * GMO relation: $M_\\Lambda +\\frac{1}{3}M_\\Sigma -\\frac{2}{3}M_N -\\frac{2}{3}M_\\Xi$\n",
    "     * $M_4$ relation: $M_\\Lambda +M_N -3M_\\Sigma +M_\\Xi$\n",
    "     * Singlet Octet: $\\frac{1}{8}(M_\\Lambda +2M_N +2M_\\Xi +3M_\\Sigma)$\n",
    "   - we should try with and without the delta dof"
   ]
  },
  {
   "cell_type": "code",
   "execution_count": 2,
   "metadata": {},
   "outputs": [],
   "source": [
    "import data_loader as dl\n",
    "import fitter as fit\n",
    "import fit_manager as fm\n",
    "from xpt import mass_relations as mr \n",
    "\n",
    "matplotlib.rcParams['figure.figsize'] = [10, 8]"
   ]
  },
  {
   "cell_type": "code",
   "execution_count": 11,
   "metadata": {},
   "outputs": [],
   "source": [
    "from input_files import a12m180L\n",
    "p_dict = a12m180L.p_dict\n",
    "abbr = p_dict['abbr']\n",
    "corr_fits = dict()\n",
    "xpt_states = [x for x in p_dict['xpt_states']]\n",
    "out_path = 'fit_results/{0}'.format(p_dict['abbr'])\n",
    "for i in list(xpt_states):\n",
    "    d = {}\n",
    "    d[p_dict['abbr']] = {l:gv.load(out_path+'/{0}_{1}'.format(l,p_dict['abbr'])) for l in xpt_states}"
   ]
  },
  {
   "cell_type": "code",
   "execution_count": 4,
   "metadata": {},
   "outputs": [],
   "source": [
    "sigma   = d[abbr]['sigma_p']['p']['E0']\n",
    "lam     = d[abbr]['lambda_z']['p']['E0']\n",
    "nucleon = d[abbr]['proton']['p']['E0']\n",
    "xi      = d[abbr]['xi_z']['p']['E0']\n",
    "\n",
    "# corr_fits"
   ]
  },
  {
   "cell_type": "code",
   "execution_count": 12,
   "metadata": {},
   "outputs": [
    {
     "data": {
      "text/plain": [
       "{'a12m180L': {'sigma_p': {'prior': BufferDict([('wf_dir', array([0.0(3.3)e-07, 0.0(3.3)e-07], dtype=object)), ('wf_smr', array([4.4(4.4)e-06, 4.4(4.4)e-06], dtype=object)), ('z_PS', array([0.0(4.3)e-06, 0.0(4.3)e-06], dtype=object)), ('z_SS', array([9.4(9.4)e-07, 9.4(9.4)e-07], dtype=object)), ('E0', 0.78(22)), ('log(dE)', array([-0.87(76)], dtype=object))]),\n",
       "   'p': BufferDict([('wf_dir', array([2e-23 +- 3.3e-07, 4e-24 +- 3.3e-07], dtype=object)), ('wf_smr', array([4.4(4.4)e-06, 4.4(4.4)e-06], dtype=object)), ('z_PS', array([3.00(10)e-06, 4.59(89)e-06], dtype=object)), ('z_SS', array([8.00(25)e-07, 7.2(1.1)e-07], dtype=object)), ('E0', 0.7329(27)), ('log(dE)', array([-0.88(12)], dtype=object))]),\n",
       "   'logGBF': 399.98488933037424,\n",
       "   'Q': 0.7023931481979444},\n",
       "  'lambda_z': {'prior': BufferDict([('wf_dir', array([0.0(3.3)e-07, 0.0(3.3)e-07], dtype=object)), ('wf_smr', array([4.4(4.4)e-06, 4.4(4.4)e-06], dtype=object)), ('z_PS', array([0.0(4.3)e-06, 0.0(4.3)e-06], dtype=object)), ('z_SS', array([9.4(9.4)e-07, 9.4(9.4)e-07], dtype=object)), ('E0', 0.78(22)), ('log(dE)', array([-0.87(76)], dtype=object))]),\n",
       "   'p': BufferDict([('wf_dir', array([-7e-24 +- 3.3e-07, 5e-24 +- 3.3e-07], dtype=object)), ('wf_smr', array([4.4(4.4)e-06, 4.4(4.4)e-06], dtype=object)), ('z_PS', array([1.461(45)e-06, 2.65(62)e-06], dtype=object)), ('z_SS', array([3.85(11)e-07, 4.37(90)e-07], dtype=object)), ('E0', 0.6722(23)), ('log(dE)', array([-0.89(13)], dtype=object))]),\n",
       "   'logGBF': 399.49737543413465,\n",
       "   'Q': 0.9115257165185292},\n",
       "  'proton': {'prior': BufferDict([('wf_dir', array([0.0(3.3)e-07, 0.0(3.3)e-07], dtype=object)), ('wf_smr', array([4.4(4.4)e-06, 4.4(4.4)e-06], dtype=object)), ('z_PS', array([0.0(4.3)e-06, 0.0(4.3)e-06], dtype=object)), ('z_SS', array([9.4(9.4)e-07, 9.4(9.4)e-07], dtype=object)), ('E0', 0.78(22)), ('log(dE)', array([-0.87(76)], dtype=object))]),\n",
       "   'p': BufferDict([('wf_dir', array([1e-24 +- 3.3e-07, 8e-24 +- 3.3e-07], dtype=object)), ('wf_smr', array([4.4(4.4)e-06, 4.4(4.4)e-06], dtype=object)), ('z_PS', array([1.75(13)e-06, 3.9(1.3)e-06], dtype=object)), ('z_SS', array([4.71(33)e-07, 7.1(2.1)e-07], dtype=object)), ('E0', 0.5870(56)), ('log(dE)', array([-0.91(20)], dtype=object))]),\n",
       "   'logGBF': 369.94624159778897,\n",
       "   'Q': 0.39397602650818403},\n",
       "  'xi_z': {'prior': BufferDict([('wf_dir', array([0.0(3.3)e-07, 0.0(3.3)e-07], dtype=object)), ('wf_smr', array([4.4(4.4)e-06, 4.4(4.4)e-06], dtype=object)), ('z_PS', array([0.0(4.3)e-06, 0.0(4.3)e-06], dtype=object)), ('z_SS', array([9.4(9.4)e-07, 9.4(9.4)e-07], dtype=object)), ('E0', 0.78(22)), ('log(dE)', array([-0.87(76)], dtype=object))]),\n",
       "   'p': BufferDict([('wf_dir', array([2e-23 +- 3.3e-07, 1e-23 +- 3.3e-07], dtype=object)), ('wf_smr', array([4.4(4.4)e-06, 4.4(4.4)e-06], dtype=object)), ('z_PS', array([3.539(52)e-06, 5.71(77)e-06], dtype=object)), ('z_SS', array([9.20(12)e-07, 8.21(92)e-07], dtype=object)), ('E0', 0.7810(11)), ('log(dE)', array([-0.834(68)], dtype=object))]),\n",
       "   'logGBF': 416.36021163737547,\n",
       "   'Q': 0.9175269467842375}}}"
      ]
     },
     "execution_count": 12,
     "metadata": {},
     "output_type": "execute_result"
    }
   ],
   "source": [
    "d"
   ]
  },
  {
   "cell_type": "code",
   "execution_count": 10,
   "metadata": {},
   "outputs": [
    {
     "ename": "TypeError",
     "evalue": "baryon_model.__init__() missing 4 required positional arguments: 'datatag', 't', 'param_keys', and 'n_states'",
     "output_type": "error",
     "traceback": [
      "\u001b[0;31m---------------------------------------------------------------------------\u001b[0m",
      "\u001b[0;31mTypeError\u001b[0m                                 Traceback (most recent call last)",
      "Cell \u001b[0;32mIn [10], line 1\u001b[0m\n\u001b[0;32m----> 1\u001b[0m fit\u001b[39m.\u001b[39;49mbaryon_model()\n",
      "\u001b[0;31mTypeError\u001b[0m: baryon_model.__init__() missing 4 required positional arguments: 'datatag', 't', 'param_keys', and 'n_states'"
     ]
    }
   ],
   "source": [
    "fit."
   ]
  },
  {
   "cell_type": "code",
   "execution_count": 5,
   "metadata": {},
   "outputs": [
    {
     "data": {
      "text/plain": [
       "0.0064(65)"
      ]
     },
     "execution_count": 5,
     "metadata": {},
     "output_type": "execute_result"
    }
   ],
   "source": [
    "gmo = mr.GMO(lam=lam,sigma=sigma,nucleon=nucleon,xi=xi)\n",
    "gmo.G_gmo()\n",
    "gmo.gmo_violation()"
   ]
  },
  {
   "cell_type": "code",
   "execution_count": null,
   "metadata": {},
   "outputs": [],
   "source": []
  }
 ],
 "metadata": {
  "kernelspec": {
   "display_name": "Python 3.10.7 64-bit",
   "language": "python",
   "name": "python3"
  },
  "language_info": {
   "codemirror_mode": {
    "name": "ipython",
    "version": 3
   },
   "file_extension": ".py",
   "mimetype": "text/x-python",
   "name": "python",
   "nbconvert_exporter": "python",
   "pygments_lexer": "ipython3",
   "version": "3.10.7"
  },
  "orig_nbformat": 4,
  "vscode": {
   "interpreter": {
    "hash": "e7370f93d1d0cde622a1f8e1c04877d8463912d04d973331ad4851f04de6915a"
   }
  }
 },
 "nbformat": 4,
 "nbformat_minor": 2
}
