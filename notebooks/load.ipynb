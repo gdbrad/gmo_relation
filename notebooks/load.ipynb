{
 "cells": [
  {
   "cell_type": "code",
   "execution_count": 1,
   "metadata": {},
   "outputs": [],
   "source": [
    "import gvar as gv\n",
    "import numpy as np \n",
    "import load_data_priors as ld \n",
    "import bs_utils as bs \n",
    "import h5py as h5"
   ]
  },
  {
   "cell_type": "code",
   "execution_count": 2,
   "metadata": {},
   "outputs": [],
   "source": [
    "file = '/home/gmoney/lqcd/data/c51_2pt_octet_decuplet.h5'\n",
    "abbr = 'a09m135'\n",
    "\n",
    "raw = ld.get_raw_corr_new(file,abbr)\n",
    "bs_M = raw['proton_SS'].shape[0] \n",
    "bs_N = 10000 # In real-world cases, this would probably be much larger\n",
    "bs_list = bs.get_bs_list(bs_M,bs_N)\n"
   ]
  },
  {
   "cell_type": "code",
   "execution_count": 3,
   "metadata": {},
   "outputs": [
    {
     "name": "stderr",
     "output_type": "stream",
     "text": [
      "/tmp/ipykernel_4045503/428993121.py:7: RuntimeWarning: invalid value encountered in power\n",
      "  gmo[src_snk] *= data['lambda_z_'+src_snk] *np.power(data['sigma_p_'+src_snk], 1/3) *np.power(data['proton_'+src_snk], -2/3) * np.power(data['xi_z_'+src_snk], -2/3)\n"
     ]
    },
    {
     "name": "stdout",
     "output_type": "stream",
     "text": [
      "{'PS': array([0.6462(26), 0.605279(64), 0.60404(27), 0.60245(45), 0.60131(39),\n",
      "       0.59996(28), 0.59844(27), 0.59710(24), 0.59570(23), 0.59444(26),\n",
      "       0.59316(33), 0.59188(45), 0.59079(63), 0.58995(81), 0.5881(10),\n",
      "       0.5850(12), 0.5827(16), 0.5860(21), 0.5879(30), 0.5792(38),\n",
      "       0.5703(53), 0.5718(70), 0.5791(97), 0.585(13), 0.595(18),\n",
      "       0.645(33), 0.684(56), 0.686(72), 0.71(12), 0.71(15), 0.545(84),\n",
      "       0.458(67), 0.419(82), 0.319(57), 0.212(33), nan +- nan, nan +- nan,\n",
      "       nan +- nan, nan +- nan, nan +- nan, nan +- nan, nan +- nan,\n",
      "       nan +- nan, nan +- nan, nan +- nan, nan +- nan, nan +- nan,\n",
      "       nan +- nan, nan +- nan, nan +- nan, nan +- nan, nan +- nan,\n",
      "       nan +- nan, nan +- nan, nan +- nan, nan +- nan, nan +- nan,\n",
      "       nan +- nan, nan +- nan, nan +- nan, nan +- nan, nan +- nan,\n",
      "       nan +- nan, nan +- nan, nan +- nan, nan +- nan, nan +- nan,\n",
      "       nan +- nan, nan +- nan, nan +- nan, nan +- nan, nan +- nan,\n",
      "       nan +- nan, nan +- nan, nan +- nan, nan +- nan, nan +- nan,\n",
      "       nan +- nan, nan +- nan, nan +- nan, nan +- nan, 0.60(12),\n",
      "       0.549(57), 0.571(44), 0.585(27), 0.583(15), 0.5936(82), 0.6119(59),\n",
      "       0.6157(48), 0.6194(47), 0.6203(40), 0.6163(32), 0.6140(32),\n",
      "       0.6114(26), 0.60674(94), 0.60507(12)], dtype=object),'SS': array([0.6253(12), 0.604990(52), 0.60398(13), 0.60273(20), 0.60159(20),\n",
      "       0.60036(19), 0.59892(18), 0.59736(19), 0.59584(22), 0.59449(24),\n",
      "       0.59326(29), 0.59216(39), 0.59124(50), 0.59033(63), 0.58912(80),\n",
      "       0.5876(11), 0.5867(14), 0.5865(19), 0.5841(25), 0.5767(33),\n",
      "       0.5686(44), 0.5633(59), 0.5645(74), 0.5708(97), 0.576(14),\n",
      "       0.584(22), 0.597(33), 0.621(49), 0.641(72), 0.607(84), 0.512(68),\n",
      "       0.438(54), 0.394(59), nan +- nan, nan +- nan, nan +- nan,\n",
      "       nan +- nan, nan +- nan, nan +- nan, nan +- nan, nan +- nan,\n",
      "       nan +- nan, nan +- nan, nan +- nan, nan +- nan, nan +- nan,\n",
      "       nan +- nan, nan +- nan, nan +- nan, nan +- nan, nan +- nan,\n",
      "       nan +- nan, nan +- nan, nan +- nan, nan +- nan, nan +- nan,\n",
      "       nan +- nan, nan +- nan, nan +- nan, nan +- nan, nan +- nan,\n",
      "       nan +- nan, nan +- nan, nan +- nan, nan +- nan, nan +- nan,\n",
      "       nan +- nan, nan +- nan, nan +- nan, nan +- nan, nan +- nan,\n",
      "       nan +- nan, nan +- nan, nan +- nan, nan +- nan, nan +- nan,\n",
      "       nan +- nan, nan +- nan, nan +- nan, nan +- nan, nan +- nan,\n",
      "       nan +- nan, 0.681(88), 0.596(41), 0.580(25), 0.589(16), 0.6034(91),\n",
      "       0.6145(53), 0.6194(42), 0.6176(36), 0.6152(29), 0.6132(26),\n",
      "       0.6105(21), 0.6080(16), 0.60547(65), 0.60494(11)], dtype=object)}\n"
     ]
    }
   ],
   "source": [
    "data = {}\n",
    "gmo = {}\n",
    "for src_snk in ['PS', 'SS']:\n",
    "    for baryon in ['lambda_z', 'sigma_p', 'proton', 'xi_z']:\n",
    "        data[baryon+'_'+src_snk] = raw[baryon+'_'+src_snk][bs_list].mean(axis=0)\n",
    "        gmo[src_snk] = np.ones_like(data[baryon+'_'+src_snk])\n",
    "    gmo[src_snk] *= data['lambda_z_'+src_snk] *np.power(data['sigma_p_'+src_snk], 1/3) *np.power(data['proton_'+src_snk], -2/3) * np.power(data['xi_z_'+src_snk], -2/3)\n",
    "\n",
    "gv_data = gv.dataset.avg_data(gmo,bstrap=True)\n",
    "# gv_data\n",
    "print(gv_data)"
   ]
  },
  {
   "cell_type": "code",
   "execution_count": 4,
   "metadata": {},
   "outputs": [
    {
     "name": "stdout",
     "output_type": "stream",
     "text": [
      "{'gmo_E': array([0.002(10), 0.003(15)], dtype=object),'gmo_z_PS': array([0.7(7.0), 0.7(7.0)], dtype=object),'gmo_z_SS': array([0.7(7.0), 0.7(7.0)], dtype=object)}\n",
      "Model Type:gmo_direct\n",
      "\n",
      "\t N_{corr} = 2\t\n",
      "\t t_{corr} = [10, 25]\n",
      "Fit results: \n",
      "Least Square Fit:\n",
      "  chi2/dof [dof] = 2.9 [18]    Q = 2.6e-05    logGBF = 84.073\n",
      "\n",
      "Parameters:\n",
      "     gmo_z_PS 0   0.60559 (84)      [  0.7 (7.0) ]  \n",
      "              1    -0.004 (15)      [  0.7 (7.0) ]  \n",
      "     gmo_z_SS 0   0.60560 (91)      [  0.7 (7.0) ]  \n",
      "              1     0.020 (17)      [  0.7 (7.0) ]  \n",
      "         gmo_E0   0.00196 (16)      [ 0.002 (10) ]  \n",
      "  gmo_log(dE) 0     -0.50 (40)      [    -7 (15) ]  \n",
      "\n",
      "Settings:\n",
      "  svdcut/n = 1e-12/0    tol = (1e-08*,1e-10,1e-10)    (itns/time = 110/0.0)\n",
      "\n"
     ]
    }
   ],
   "source": [
    "model_type = 'gmo_direct'\n",
    "import os \n",
    "import sys\n",
    "import importlib\n",
    "import gmo_fit_analysis as fa \n",
    "fit_params = 'input_files/a09m135.py'\n",
    "sys.path.append(os.path.dirname(os.path.abspath(fit_params)))\n",
    "fp = importlib.import_module(\n",
    "        fit_params.split('/')[-1].split('.py')[0])\n",
    "\n",
    "\n",
    "p_dict = fp.p_dict\n",
    "abbr = p_dict['abbr']\n",
    "prior = ld.fetch_prior(model_type,p_dict)\n",
    "print(prior)\n",
    "gmo_direct = fa.fit_analysis(t_range=p_dict\n",
    "['t_range'],simult=False,t_period=64,states=['gmo'],p_dict=p_dict, \n",
    "n_states=p_dict['n_states'],prior=prior,\n",
    "nucleon_corr_data=None,lam_corr_data=None, xi_corr_data=None,sigma_corr_data=None,\n",
    "gmo_corr_data=gv_data,model_type=model_type)\n",
    "print(gmo_direct)\n",
    "fit_out = gmo_direct.get_fit()"
   ]
  },
  {
   "cell_type": "code",
   "execution_count": 5,
   "metadata": {},
   "outputs": [],
   "source": [
    "import matplotlib\n",
    "import matplotlib.pyplot as plt\n",
    "import matplotlib.mlab as mlab\n",
    "import matplotlib.colors as colors\n",
    "from matplotlib.backends.backend_pdf import PdfPages\n",
    "gmo_eff_mass = gmo_direct.get_gmo_effective(gmo_ratio=gv_data)\n",
    "plot1 = gmo_direct.return_best_fit_info(bs=False)\n",
    "plot2 = gmo_direct.plot_delta_gmo(correlators_gv=gv_data,t_plot_min=0,t_plot_max=20,\n",
    "model_type=model_type,fig_name = None,show_fit=True)\n",
    "plot3 = gmo_direct.plot_gmo_effective_mass(effective_mass=gmo_eff_mass,\n",
    "t_plot_min=0,t_plot_max=40,model_type=model_type,show_fit=True,fig_name=None)\n",
    "output_dir = 'fit_results/{0}/{1}_{0}'.format(p_dict['abbr'],model_type)\n",
    "output_pdf = output_dir+\".pdf\"\n",
    "with PdfPages(output_pdf) as pp:\n",
    "    pp.savefig(plot1)\n",
    "    pp.savefig(plot2)\n",
    "    pp.savefig(plot3)"
   ]
  },
  {
   "cell_type": "code",
   "execution_count": 6,
   "metadata": {},
   "outputs": [
    {
     "ename": "SyntaxError",
     "evalue": "invalid syntax (76512496.py, line 7)",
     "output_type": "error",
     "traceback": [
      "\u001b[0;36m  Cell \u001b[0;32mIn[6], line 7\u001b[0;36m\u001b[0m\n\u001b[0;31m    data[baryon+'_'+src_snk] =\u001b[0m\n\u001b[0m                               ^\u001b[0m\n\u001b[0;31mSyntaxError\u001b[0m\u001b[0;31m:\u001b[0m invalid syntax\n"
     ]
    }
   ],
   "source": [
    "# print(temp)\n",
    "data = {}\n",
    "gmo = {}\n",
    "for src_snk in ['PS', 'SS']:\n",
    "    gmo['gmo_'+src_snk] = {}\n",
    "    for baryon in['lambda_z', 'sigma_p', 'proton', 'xi_z']:\n",
    "            data[baryon+'_'+src_snk] = \n",
    "for n in range(bs_N):\n",
    "    for src_snk in ['PS', 'SS']:\n",
    "        for baryon in ['lambda_z', 'sigma_p', 'proton', 'xi_z']:\n",
    "            data[baryon+'_'+src_snk] = np.mean(temp[baryon+'_'+src_snk], axis=1,dtype=object)\n",
    "            gmo['gmo_'+src_snk] = data['lambda_z_'+src_snk][n] *np.power(data['sigma_p_'+src_snk][n], 1/3) *np.power(data['proton_'+src_snk][n], -2/3) * np.power(data['xi_z_'+src_snk][n], -2/3)\n"
   ]
  },
  {
   "cell_type": "code",
   "execution_count": null,
   "metadata": {},
   "outputs": [
    {
     "data": {
      "text/plain": [
       "{'gmo_PS': 0.5992642913502759, 'gmo_SS': 0.5979099635754775}"
      ]
     },
     "execution_count": 18,
     "metadata": {},
     "output_type": "execute_result"
    }
   ],
   "source": [
    "gmo\n",
    "\n",
    "# Samples_ps= gmo['gmo_PS']\n",
    "# Samples_ss= gmo['gmo_SS']\n",
    "# vals_ps = np.fromiter(Samples_ps.values(), dtype=float)\n",
    "# vals_ss = np.fromiter(Samples_ss.values(), dtype=float)\n",
    "# gv.dataset.avg_data(vals_ps)\n"
   ]
  },
  {
   "cell_type": "code",
   "execution_count": null,
   "metadata": {},
   "outputs": [],
   "source": []
  },
  {
   "cell_type": "code",
   "execution_count": null,
   "metadata": {},
   "outputs": [],
   "source": []
  }
 ],
 "metadata": {
  "kernelspec": {
   "display_name": "Python 3.10.7 64-bit",
   "language": "python",
   "name": "python3"
  },
  "language_info": {
   "codemirror_mode": {
    "name": "ipython",
    "version": 3
   },
   "file_extension": ".py",
   "mimetype": "text/x-python",
   "name": "python",
   "nbconvert_exporter": "python",
   "pygments_lexer": "ipython3",
   "version": "3.10.9"
  },
  "orig_nbformat": 4,
  "vscode": {
   "interpreter": {
    "hash": "e7370f93d1d0cde622a1f8e1c04877d8463912d04d973331ad4851f04de6915a"
   }
  }
 },
 "nbformat": 4,
 "nbformat_minor": 2
}
